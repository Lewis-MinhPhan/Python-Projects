{
 "cells": [
  {
   "cell_type": "markdown",
   "id": "473825ee",
   "metadata": {},
   "source": [
    "### BMI Calculation"
   ]
  },
  {
   "cell_type": "code",
   "execution_count": null,
   "id": "f7872f08",
   "metadata": {},
   "outputs": [],
   "source": [
    "weight = int(input('Enter you weight in pounds: '))\n",
    "height = int(input('Enter you height in inches: '))\n",
    "\n",
    "BMI = (weight * 703)/(height*height)\n",
    "\n",
    "if BMI > 0:\n",
    "    if BMI < 18.5:\n",
    "        print (str(BMI) + ' Underweight - Minial health risk')\n",
    "    elif BMI <= 24.9:\n",
    "        print (str(BMI) + ' Normal weight - Minial health risk')\n",
    "    elif BMI <= 29.9:\n",
    "        print (str(BMI) + ' Overweight - Increased health risk')\n",
    "    elif BMI <= 34.9:\n",
    "        print (str(BMI) + ' Obese - High health risk')\n",
    "    elif BMI <= 39.9:\n",
    "        print (str(BMI) + ' Severly Obese - Very High health risk')\n",
    "    else:\n",
    "        print (str(BMI) + ' Morbidly Obese - Extremly High health risk')\n",
    "else:\n",
    "    print ('Enter valid input')"
   ]
  },
  {
   "cell_type": "code",
   "execution_count": null,
   "id": "f5bae92d",
   "metadata": {},
   "outputs": [],
   "source": []
  }
 ],
 "metadata": {
  "kernelspec": {
   "display_name": "Python 3 (ipykernel)",
   "language": "python",
   "name": "python3"
  },
  "language_info": {
   "codemirror_mode": {
    "name": "ipython",
    "version": 3
   },
   "file_extension": ".py",
   "mimetype": "text/x-python",
   "name": "python",
   "nbconvert_exporter": "python",
   "pygments_lexer": "ipython3",
   "version": "3.11.7"
  }
 },
 "nbformat": 4,
 "nbformat_minor": 5
}
