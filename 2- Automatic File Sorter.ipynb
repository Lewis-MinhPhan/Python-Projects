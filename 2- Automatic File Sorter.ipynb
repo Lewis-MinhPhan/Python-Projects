{
 "cells": [
  {
   "cell_type": "markdown",
   "id": "c08345db",
   "metadata": {},
   "source": [
    "### Automatic File Sorter in Download Folder"
   ]
  },
  {
   "cell_type": "code",
   "execution_count": 2,
   "id": "c064b7eb",
   "metadata": {},
   "outputs": [],
   "source": [
    "import os, shutil"
   ]
  },
  {
   "cell_type": "code",
   "execution_count": 12,
   "id": "433b7421",
   "metadata": {},
   "outputs": [],
   "source": [
    "path = r\"/Users/lewis/Documents/File Sorter/\""
   ]
  },
  {
   "cell_type": "code",
   "execution_count": 15,
   "id": "5f842c3c",
   "metadata": {},
   "outputs": [],
   "source": [
    "file_name = os.listdir(path)"
   ]
  },
  {
   "cell_type": "code",
   "execution_count": 25,
   "id": "8a4c43ba",
   "metadata": {},
   "outputs": [],
   "source": [
    "folder_name = ['csv file', 'image file', 'text file']\n",
    "\n",
    "for loop in range(0,3):\n",
    "    if not os.path.exists(path + folder_name[loop]):\n",
    "        os.makedirs(path + folder_name[loop])\n",
    "        print (path + folder_name[loop])\n",
    "        \n",
    "for file in file_name:\n",
    "    if \".csv\" in file and not os.path.exists(path + \"csv file/\" + file):\n",
    "        shutil.move(path + file, path + \"csv file/\" + file)\n",
    "    if \".png\" in file and not os.path.exists(path + \"image file/\" + file):\n",
    "        shutil.move(path + file, path + \"image file/\" + file)\n",
    "    if \".txt\" in file and not os.path.exists(path + \"text file/\" + file):\n",
    "        shutil.move(path + file, path + \"text file/\" + file)"
   ]
  },
  {
   "cell_type": "code",
   "execution_count": null,
   "id": "766bdaa0",
   "metadata": {},
   "outputs": [],
   "source": []
  },
  {
   "cell_type": "code",
   "execution_count": null,
   "id": "0cd1b1fe",
   "metadata": {},
   "outputs": [],
   "source": []
  }
 ],
 "metadata": {
  "kernelspec": {
   "display_name": "Python 3 (ipykernel)",
   "language": "python",
   "name": "python3"
  },
  "language_info": {
   "codemirror_mode": {
    "name": "ipython",
    "version": 3
   },
   "file_extension": ".py",
   "mimetype": "text/x-python",
   "name": "python",
   "nbconvert_exporter": "python",
   "pygments_lexer": "ipython3",
   "version": "3.11.7"
  }
 },
 "nbformat": 4,
 "nbformat_minor": 5
}
